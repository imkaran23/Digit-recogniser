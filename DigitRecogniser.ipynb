{
  "nbformat": 4,
  "nbformat_minor": 0,
  "metadata": {
    "colab": {
      "name": "DigitRecogniser.ipynb",
      "provenance": [],
      "collapsed_sections": [],
      "toc_visible": true,
      "include_colab_link": true
    },
    "kernelspec": {
      "name": "python3",
      "display_name": "Python 3"
    },
    "accelerator": "GPU"
  },
  "cells": [
    {
      "cell_type": "markdown",
      "metadata": {
        "id": "view-in-github",
        "colab_type": "text"
      },
      "source": [
        "<a href=\"https://colab.research.google.com/github/imkaran23/Digit-recogniser/blob/master/DigitRecogniser.ipynb\" target=\"_parent\"><img src=\"https://colab.research.google.com/assets/colab-badge.svg\" alt=\"Open In Colab\"/></a>"
      ]
    },
    {
      "cell_type": "code",
      "metadata": {
        "id": "lO-H_LxhG-wv",
        "colab_type": "code",
        "outputId": "4d5f7540-e0cd-4bc9-887d-09bd94d30068",
        "colab": {
          "base_uri": "https://localhost:8080/",
          "height": 34
        }
      },
      "source": [
        "from google.colab import drive\n",
        "drive.mount('/content/drive')"
      ],
      "execution_count": 0,
      "outputs": [
        {
          "output_type": "stream",
          "text": [
            "Drive already mounted at /content/drive; to attempt to forcibly remount, call drive.mount(\"/content/drive\", force_remount=True).\n"
          ],
          "name": "stdout"
        }
      ]
    },
    {
      "cell_type": "code",
      "metadata": {
        "id": "0a39Ol8tG_9I",
        "colab_type": "code",
        "outputId": "a63d780b-70fa-436f-bf3b-71bdc0844424",
        "colab": {
          "base_uri": "https://localhost:8080/",
          "height": 79
        }
      },
      "source": [
        "import pandas as pd\n",
        "import numpy as np\n",
        "\n",
        "from sklearn.model_selection import train_test_split\n",
        "\n",
        "from keras.utils.np_utils import to_categorical # convert to one-hot-encoding\n",
        "from keras.models import Sequential\n",
        "from keras.layers import Dense, Dropout, Flatten, Conv2D, MaxPool2D, BatchNormalization\n",
        "from keras.optimizers import RMSprop\n",
        "from keras.callbacks import ReduceLROnPlateau\n",
        "from keras.preprocessing.image import ImageDataGenerator"
      ],
      "execution_count": 0,
      "outputs": [
        {
          "output_type": "stream",
          "text": [
            "Using TensorFlow backend.\n"
          ],
          "name": "stderr"
        },
        {
          "output_type": "display_data",
          "data": {
            "text/html": [
              "<p style=\"color: red;\">\n",
              "The default version of TensorFlow in Colab will soon switch to TensorFlow 2.x.<br>\n",
              "We recommend you <a href=\"https://www.tensorflow.org/guide/migrate\" target=\"_blank\">upgrade</a> now \n",
              "or ensure your notebook will continue to use TensorFlow 1.x via the <code>%tensorflow_version 1.x</code> magic:\n",
              "<a href=\"https://colab.research.google.com/notebooks/tensorflow_version.ipynb\" target=\"_blank\">more info</a>.</p>\n"
            ],
            "text/plain": [
              "<IPython.core.display.HTML object>"
            ]
          },
          "metadata": {
            "tags": []
          }
        }
      ]
    },
    {
      "cell_type": "code",
      "metadata": {
        "id": "E17i-mTbXp_D",
        "colab_type": "code",
        "colab": {}
      },
      "source": [
        "!rm -rf ~/.kaggle\n",
        "!mkdir ~/.kaggle\n",
        "!cp \"/content/drive/My Drive/kaggle.json\" ~/.kaggle"
      ],
      "execution_count": 0,
      "outputs": []
    },
    {
      "cell_type": "code",
      "metadata": {
        "colab_type": "code",
        "outputId": "e236ece2-adfb-496b-8b0b-940acde48f4c",
        "id": "4HJQefzBs7bh",
        "colab": {
          "base_uri": "https://localhost:8080/",
          "height": 151
        }
      },
      "source": [
        "!kaggle competitions download -c digit-recognizer"
      ],
      "execution_count": 0,
      "outputs": [
        {
          "output_type": "stream",
          "text": [
            "Warning: Looks like you're using an outdated API Version, please consider updating (server 1.5.6 / client 1.5.4)\n",
            "sample_submission.csv: Skipping, found more recently modified local copy (use --force to force download)\n",
            "Downloading train.csv.zip to /content\n",
            "  0% 0.00/9.16M [00:00<?, ?B/s]\n",
            "100% 9.16M/9.16M [00:00<00:00, 84.6MB/s]\n",
            "Downloading test.csv.zip to /content\n",
            "  0% 0.00/6.09M [00:00<?, ?B/s]\n",
            "100% 6.09M/6.09M [00:00<00:00, 100MB/s]\n"
          ],
          "name": "stdout"
        }
      ]
    },
    {
      "cell_type": "code",
      "metadata": {
        "id": "7uyQ2VDcs-RM",
        "colab_type": "code",
        "outputId": "8a2db4eb-d6eb-4b87-c66f-fcb07efbee63",
        "colab": {
          "base_uri": "https://localhost:8080/",
          "height": 84
        }
      },
      "source": [
        "!unzip test.csv.zip\n",
        "!unzip train.csv.zip"
      ],
      "execution_count": 0,
      "outputs": [
        {
          "output_type": "stream",
          "text": [
            "Archive:  test.csv.zip\n",
            "replace test.csv? [y]es, [n]o, [A]ll, [N]one, [r]ename: N\n",
            "Archive:  train.csv.zip\n",
            "replace train.csv? [y]es, [n]o, [A]ll, [N]one, [r]ename: n\n"
          ],
          "name": "stdout"
        }
      ]
    },
    {
      "cell_type": "code",
      "metadata": {
        "id": "yrUJ7upEYfkX",
        "colab_type": "code",
        "colab": {}
      },
      "source": [
        "#load the data\n",
        "train=pd.read_csv(\"train.csv\")\n",
        "test=pd.read_csv(\"test.csv\")"
      ],
      "execution_count": 0,
      "outputs": []
    },
    {
      "cell_type": "code",
      "metadata": {
        "id": "u32XjObSc-kG",
        "colab_type": "code",
        "colab": {}
      },
      "source": [
        "#get X_train,Y_train\n",
        "X_train=train.drop(labels='label',axis=1)\n",
        "Y_train=train['label']\n",
        "\n",
        "#free space\n",
        "del train"
      ],
      "execution_count": 0,
      "outputs": []
    },
    {
      "cell_type": "code",
      "metadata": {
        "id": "pN29b0VevqIa",
        "colab_type": "code",
        "outputId": "b7534a61-bfbd-4498-b360-d085692bacea",
        "colab": {
          "base_uri": "https://localhost:8080/",
          "height": 101
        }
      },
      "source": [
        "#check the data\n",
        "X_train.isnull().any().describe()"
      ],
      "execution_count": 0,
      "outputs": [
        {
          "output_type": "execute_result",
          "data": {
            "text/plain": [
              "count       784\n",
              "unique        1\n",
              "top       False\n",
              "freq        784\n",
              "dtype: object"
            ]
          },
          "metadata": {
            "tags": []
          },
          "execution_count": 38
        }
      ]
    },
    {
      "cell_type": "code",
      "metadata": {
        "id": "vUzj2P-Bv5Pk",
        "colab_type": "code",
        "outputId": "bee253da-5bfd-4c1a-a81b-03f5d995fe0a",
        "colab": {
          "base_uri": "https://localhost:8080/",
          "height": 101
        }
      },
      "source": [
        "test.isnull().any().describe()"
      ],
      "execution_count": 0,
      "outputs": [
        {
          "output_type": "execute_result",
          "data": {
            "text/plain": [
              "count       784\n",
              "unique        1\n",
              "top       False\n",
              "freq        784\n",
              "dtype: object"
            ]
          },
          "metadata": {
            "tags": []
          },
          "execution_count": 39
        }
      ]
    },
    {
      "cell_type": "code",
      "metadata": {
        "id": "gcHy_Lzsh_QG",
        "colab_type": "code",
        "colab": {}
      },
      "source": [
        "# Normalization\n",
        "X_train = X_train / 255.0\n",
        "test = test / 255.0"
      ],
      "execution_count": 0,
      "outputs": []
    },
    {
      "cell_type": "code",
      "metadata": {
        "id": "Gg2MVMXwwWRj",
        "colab_type": "code",
        "colab": {}
      },
      "source": [
        "# Reshape image in 3 dimensions (height = 28px, width = 28px , canal = 1)\n",
        "X_train = X_train.values.reshape(-1,28,28,1)\n",
        "test = test.values.reshape(-1,28,28,1)"
      ],
      "execution_count": 0,
      "outputs": []
    },
    {
      "cell_type": "code",
      "metadata": {
        "id": "NueiWR2hwmYf",
        "colab_type": "code",
        "colab": {}
      },
      "source": [
        "# Encode labels to one hot vectors (ex : 2 -> [0,0,1,0,0,0,0,0,0,0])\n",
        "Y_train = to_categorical(Y_train, num_classes = 10)"
      ],
      "execution_count": 0,
      "outputs": []
    },
    {
      "cell_type": "code",
      "metadata": {
        "id": "ucxhM1WGx_k9",
        "colab_type": "code",
        "colab": {}
      },
      "source": [
        "# Split the train and the validation set for the fitting\n",
        "X_train, X_val, Y_train, Y_val = train_test_split(X_train, Y_train, test_size = 0.1, random_state= 2)"
      ],
      "execution_count": 0,
      "outputs": []
    },
    {
      "cell_type": "code",
      "metadata": {
        "id": "yc9w0YnOyEtP",
        "colab_type": "code",
        "outputId": "4601956a-1be6-476d-ac42-40e6c59c98b3",
        "colab": {
          "base_uri": "https://localhost:8080/",
          "height": 776
        }
      },
      "source": [
        "# Set the CNN model: In -> [[Conv2D->relu]*3 -> MaxPool2D -> Dropout]*2 -> Flatten -> Dense -> Dropout -> Out\n",
        "model = Sequential()\n",
        "\n",
        "model.add(Conv2D(filters = 32, kernel_size = (5,5),padding = 'Same', \n",
        "                 activation ='relu', input_shape = (28,28,1)))\n",
        "model.add(Conv2D(filters = 32, kernel_size = (5,5),padding = 'Same', \n",
        "                 activation ='relu'))\n",
        "model.add(Conv2D(filters = 32, kernel_size = (5,5),padding = 'Same', \n",
        "                 activation ='relu'))\n",
        "model.add(BatchNormalization())\n",
        "model.add(MaxPool2D(pool_size=(2,2)))\n",
        "model.add(Dropout(0.25))\n",
        "\n",
        "\n",
        "model.add(Conv2D(filters = 64, kernel_size = (3,3),padding = 'Same', \n",
        "                 activation ='relu'))\n",
        "model.add(Conv2D(filters = 64, kernel_size = (3,3),padding = 'Same', \n",
        "                 activation ='relu'))\n",
        "model.add(Conv2D(filters = 64, kernel_size = (3,3),padding = 'Same', \n",
        "                 activation ='relu'))\n",
        "model.add(BatchNormalization())\n",
        "model.add(MaxPool2D(pool_size=(2,2), strides=(2,2)))\n",
        "model.add(Dropout(0.25))\n",
        "\n",
        "\n",
        "model.add(Flatten())\n",
        "model.add(Dense(256, activation = \"relu\"))\n",
        "model.add(BatchNormalization())\n",
        "model.add(Dropout(0.5))\n",
        "model.add(Dense(10, activation = \"softmax\"))\n",
        "model.summary()"
      ],
      "execution_count": 0,
      "outputs": [
        {
          "output_type": "stream",
          "text": [
            "WARNING:tensorflow:From /usr/local/lib/python3.6/dist-packages/keras/backend/tensorflow_backend.py:2041: The name tf.nn.fused_batch_norm is deprecated. Please use tf.compat.v1.nn.fused_batch_norm instead.\n",
            "\n",
            "Model: \"sequential_6\"\n",
            "_________________________________________________________________\n",
            "Layer (type)                 Output Shape              Param #   \n",
            "=================================================================\n",
            "conv2d_17 (Conv2D)           (None, 28, 28, 32)        832       \n",
            "_________________________________________________________________\n",
            "conv2d_18 (Conv2D)           (None, 28, 28, 32)        25632     \n",
            "_________________________________________________________________\n",
            "conv2d_19 (Conv2D)           (None, 28, 28, 32)        25632     \n",
            "_________________________________________________________________\n",
            "batch_normalization_1 (Batch (None, 28, 28, 32)        128       \n",
            "_________________________________________________________________\n",
            "max_pooling2d_7 (MaxPooling2 (None, 14, 14, 32)        0         \n",
            "_________________________________________________________________\n",
            "dropout_10 (Dropout)         (None, 14, 14, 32)        0         \n",
            "_________________________________________________________________\n",
            "conv2d_20 (Conv2D)           (None, 14, 14, 64)        18496     \n",
            "_________________________________________________________________\n",
            "conv2d_21 (Conv2D)           (None, 14, 14, 64)        36928     \n",
            "_________________________________________________________________\n",
            "conv2d_22 (Conv2D)           (None, 14, 14, 64)        36928     \n",
            "_________________________________________________________________\n",
            "batch_normalization_2 (Batch (None, 14, 14, 64)        256       \n",
            "_________________________________________________________________\n",
            "max_pooling2d_8 (MaxPooling2 (None, 7, 7, 64)          0         \n",
            "_________________________________________________________________\n",
            "dropout_11 (Dropout)         (None, 7, 7, 64)          0         \n",
            "_________________________________________________________________\n",
            "flatten_4 (Flatten)          (None, 3136)              0         \n",
            "_________________________________________________________________\n",
            "dense_7 (Dense)              (None, 256)               803072    \n",
            "_________________________________________________________________\n",
            "batch_normalization_3 (Batch (None, 256)               1024      \n",
            "_________________________________________________________________\n",
            "dropout_12 (Dropout)         (None, 256)               0         \n",
            "_________________________________________________________________\n",
            "dense_8 (Dense)              (None, 10)                2570      \n",
            "=================================================================\n",
            "Total params: 951,498\n",
            "Trainable params: 950,794\n",
            "Non-trainable params: 704\n",
            "_________________________________________________________________\n"
          ],
          "name": "stdout"
        }
      ]
    },
    {
      "cell_type": "code",
      "metadata": {
        "id": "dx6p06BgzpiR",
        "colab_type": "code",
        "colab": {}
      },
      "source": [
        "# Defining optimizer\n",
        "optimizer = RMSprop(lr=0.001, rho=0.9,epsilon=1e-08, decay=0.0)\n",
        "# Compiling model\n",
        "model.compile(optimizer = optimizer , loss = \"categorical_crossentropy\", metrics=[\"accuracy\"])"
      ],
      "execution_count": 0,
      "outputs": []
    },
    {
      "cell_type": "code",
      "metadata": {
        "id": "qp5Df9i_5ZHe",
        "colab_type": "code",
        "colab": {}
      },
      "source": [
        "# Reducing learning rate gradually\n",
        "learning_rate_reduction = ReduceLROnPlateau(monitor='val_acc', \n",
        "                                            patience=3, \n",
        "                                            verbose=1, \n",
        "                                            factor=0.5, \n",
        "                                            min_lr=0.00001)"
      ],
      "execution_count": 0,
      "outputs": []
    },
    {
      "cell_type": "code",
      "metadata": {
        "id": "cGjRdezl6u3u",
        "colab_type": "code",
        "colab": {}
      },
      "source": [
        "# Data augmentation\n",
        "datagen = ImageDataGenerator(\n",
        "        featurewise_center=False,            # set input mean to 0 over the dataset\n",
        "        samplewise_center=False,             # set each sample mean to 0\n",
        "        featurewise_std_normalization=False, # divide inputs by std of the dataset\n",
        "        samplewise_std_normalization=False,  # divide each input by its std\n",
        "        zca_whitening=False,                 # apply ZCA whitening\n",
        "        rotation_range=10,                   # randomly rotate images in the range (degrees, 0 to 180)\n",
        "        zoom_range = 0.1,                    # Randomly zoom image \n",
        "        width_shift_range=0.1,               # randomly shift images horizontally (fraction of total width)\n",
        "        height_shift_range=0.1,              # randomly shift images vertically (fraction of total height)\n",
        "        horizontal_flip=False,               # randomly flip images\n",
        "        vertical_flip=False)                 # randomly flip images\n",
        "\n",
        "datagen.fit(X_train)"
      ],
      "execution_count": 0,
      "outputs": []
    },
    {
      "cell_type": "code",
      "metadata": {
        "id": "JQAE-07X7HYy",
        "colab_type": "code",
        "outputId": "ec633fb8-15e4-4b1d-990e-fb602b24f2ea",
        "colab": {
          "base_uri": "https://localhost:8080/",
          "height": 1000
        }
      },
      "source": [
        "# Fit the model\n",
        "history = model.fit_generator(datagen.flow(X_train,Y_train, batch_size=86),\n",
        "                              epochs = 35, validation_data = (X_val,Y_val),\n",
        "                              verbose = 2, steps_per_epoch=X_train.shape[0] // batch_size\n",
        "                              , callbacks=[learning_rate_reduction])"
      ],
      "execution_count": 0,
      "outputs": [
        {
          "output_type": "stream",
          "text": [
            "Epoch 1/35\n",
            " - 11s - loss: 0.0393 - acc: 0.9882 - val_loss: 0.0406 - val_acc: 0.9886\n",
            "Epoch 2/35\n",
            " - 11s - loss: 0.0377 - acc: 0.9889 - val_loss: 0.0224 - val_acc: 0.9936\n",
            "Epoch 3/35\n",
            " - 11s - loss: 0.0358 - acc: 0.9891 - val_loss: 0.0284 - val_acc: 0.9917\n",
            "Epoch 4/35\n",
            " - 11s - loss: 0.0337 - acc: 0.9902 - val_loss: 0.0238 - val_acc: 0.9921\n",
            "Epoch 5/35\n",
            " - 11s - loss: 0.0331 - acc: 0.9902 - val_loss: 0.0415 - val_acc: 0.9902\n",
            "\n",
            "Epoch 00005: ReduceLROnPlateau reducing learning rate to 0.0005000000237487257.\n",
            "Epoch 6/35\n",
            " - 11s - loss: 0.0273 - acc: 0.9921 - val_loss: 0.0160 - val_acc: 0.9945\n",
            "Epoch 7/35\n",
            " - 11s - loss: 0.0234 - acc: 0.9931 - val_loss: 0.0139 - val_acc: 0.9948\n",
            "Epoch 8/35\n",
            " - 11s - loss: 0.0240 - acc: 0.9927 - val_loss: 0.0200 - val_acc: 0.9938\n",
            "Epoch 9/35\n",
            " - 11s - loss: 0.0223 - acc: 0.9931 - val_loss: 0.0210 - val_acc: 0.9936\n",
            "Epoch 10/35\n",
            " - 11s - loss: 0.0236 - acc: 0.9929 - val_loss: 0.0268 - val_acc: 0.9929\n",
            "\n",
            "Epoch 00010: ReduceLROnPlateau reducing learning rate to 0.0002500000118743628.\n",
            "Epoch 11/35\n",
            " - 11s - loss: 0.0197 - acc: 0.9943 - val_loss: 0.0147 - val_acc: 0.9960\n",
            "Epoch 12/35\n",
            " - 11s - loss: 0.0201 - acc: 0.9940 - val_loss: 0.0225 - val_acc: 0.9948\n",
            "Epoch 13/35\n",
            " - 11s - loss: 0.0177 - acc: 0.9945 - val_loss: 0.0134 - val_acc: 0.9969\n",
            "Epoch 14/35\n",
            " - 11s - loss: 0.0173 - acc: 0.9950 - val_loss: 0.0129 - val_acc: 0.9960\n",
            "Epoch 15/35\n",
            " - 11s - loss: 0.0158 - acc: 0.9949 - val_loss: 0.0130 - val_acc: 0.9957\n",
            "Epoch 16/35\n",
            " - 11s - loss: 0.0172 - acc: 0.9956 - val_loss: 0.0109 - val_acc: 0.9964\n",
            "\n",
            "Epoch 00016: ReduceLROnPlateau reducing learning rate to 0.0001250000059371814.\n",
            "Epoch 17/35\n",
            " - 11s - loss: 0.0149 - acc: 0.9955 - val_loss: 0.0132 - val_acc: 0.9957\n",
            "Epoch 18/35\n",
            " - 11s - loss: 0.0151 - acc: 0.9957 - val_loss: 0.0165 - val_acc: 0.9957\n",
            "Epoch 19/35\n",
            " - 11s - loss: 0.0157 - acc: 0.9959 - val_loss: 0.0126 - val_acc: 0.9967\n",
            "\n",
            "Epoch 00019: ReduceLROnPlateau reducing learning rate to 6.25000029685907e-05.\n",
            "Epoch 20/35\n",
            " - 11s - loss: 0.0129 - acc: 0.9964 - val_loss: 0.0137 - val_acc: 0.9967\n",
            "Epoch 21/35\n",
            " - 11s - loss: 0.0142 - acc: 0.9960 - val_loss: 0.0131 - val_acc: 0.9964\n",
            "Epoch 22/35\n",
            " - 11s - loss: 0.0132 - acc: 0.9960 - val_loss: 0.0135 - val_acc: 0.9964\n",
            "\n",
            "Epoch 00022: ReduceLROnPlateau reducing learning rate to 3.125000148429535e-05.\n",
            "Epoch 23/35\n",
            " - 11s - loss: 0.0131 - acc: 0.9964 - val_loss: 0.0136 - val_acc: 0.9962\n",
            "Epoch 24/35\n",
            " - 11s - loss: 0.0126 - acc: 0.9964 - val_loss: 0.0126 - val_acc: 0.9971\n",
            "Epoch 25/35\n",
            " - 11s - loss: 0.0120 - acc: 0.9967 - val_loss: 0.0141 - val_acc: 0.9967\n",
            "Epoch 26/35\n",
            " - 11s - loss: 0.0128 - acc: 0.9963 - val_loss: 0.0139 - val_acc: 0.9969\n",
            "Epoch 27/35\n",
            " - 11s - loss: 0.0125 - acc: 0.9962 - val_loss: 0.0143 - val_acc: 0.9967\n",
            "\n",
            "Epoch 00027: ReduceLROnPlateau reducing learning rate to 1.5625000742147677e-05.\n",
            "Epoch 28/35\n",
            " - 11s - loss: 0.0129 - acc: 0.9960 - val_loss: 0.0137 - val_acc: 0.9967\n",
            "Epoch 29/35\n",
            " - 11s - loss: 0.0125 - acc: 0.9963 - val_loss: 0.0136 - val_acc: 0.9964\n",
            "Epoch 30/35\n",
            " - 11s - loss: 0.0114 - acc: 0.9967 - val_loss: 0.0133 - val_acc: 0.9969\n",
            "\n",
            "Epoch 00030: ReduceLROnPlateau reducing learning rate to 1e-05.\n",
            "Epoch 31/35\n",
            " - 11s - loss: 0.0125 - acc: 0.9963 - val_loss: 0.0132 - val_acc: 0.9967\n",
            "Epoch 32/35\n",
            " - 11s - loss: 0.0116 - acc: 0.9965 - val_loss: 0.0133 - val_acc: 0.9967\n",
            "Epoch 33/35\n",
            " - 11s - loss: 0.0115 - acc: 0.9967 - val_loss: 0.0129 - val_acc: 0.9967\n",
            "Epoch 34/35\n",
            " - 11s - loss: 0.0114 - acc: 0.9962 - val_loss: 0.0129 - val_acc: 0.9969\n",
            "Epoch 35/35\n",
            " - 11s - loss: 0.0139 - acc: 0.9959 - val_loss: 0.0128 - val_acc: 0.9967\n"
          ],
          "name": "stdout"
        }
      ]
    },
    {
      "cell_type": "code",
      "metadata": {
        "id": "MiaNrlmH723b",
        "colab_type": "code",
        "colab": {}
      },
      "source": [
        "# predict results\n",
        "results = model.predict(test)\n",
        "results = np.argmax(results,axis = 1)\n",
        "results = pd.Series(results,name=\"Label\")"
      ],
      "execution_count": 0,
      "outputs": []
    },
    {
      "cell_type": "code",
      "metadata": {
        "id": "1V5ZoNcwHf-0",
        "colab_type": "code",
        "colab": {}
      },
      "source": [
        "submission = pd.concat([pd.Series(range(1,28001),name = \"ImageId\"),results],axis = 1)\n",
        "\n",
        "submission.to_csv(\"CNN_mnist_DataRecogniser.csv\",index=False)"
      ],
      "execution_count": 0,
      "outputs": []
    },
    {
      "cell_type": "code",
      "metadata": {
        "id": "RVf28VFWMOw6",
        "colab_type": "code",
        "colab": {}
      },
      "source": [
        ""
      ],
      "execution_count": 0,
      "outputs": []
    }
  ]
}